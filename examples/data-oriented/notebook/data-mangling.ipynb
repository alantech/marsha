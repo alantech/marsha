{
 "cells": [
  {
   "cell_type": "code",
   "execution_count": null,
   "id": "a4b0163f-e3e7-42cd-90a7-91d897905230",
   "metadata": {},
   "outputs": [],
   "source": [
    "%pip install git+https://github.com/alantech/marsha"
   ]
  },
  {
   "cell_type": "code",
   "execution_count": null,
   "id": "20544e71-9869-4898-98bd-04b5431529bf",
   "metadata": {},
   "outputs": [],
   "source": [
    "!python -m marsha sort_by_age.mrsh"
   ]
  }
 ],
 "metadata": {
  "kernelspec": {
   "display_name": "Python 3 (ipykernel)",
   "language": "python",
   "name": "python3"
  },
  "language_info": {
   "codemirror_mode": {
    "name": "ipython",
    "version": 3
   },
   "file_extension": ".py",
   "mimetype": "text/x-python",
   "name": "python",
   "nbconvert_exporter": "python",
   "pygments_lexer": "ipython3",
   "version": "3.10.12"
  }
 },
 "nbformat": 4,
 "nbformat_minor": 5
}
